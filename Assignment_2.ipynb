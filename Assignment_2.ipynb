{
 "cells": [
  {
   "cell_type": "markdown",
   "id": "eeb6f75e",
   "metadata": {
    "deletable": false
   },
   "source": [
    "\n",
    "# Assignment 2 for Course 1MS041\n",
    "Make sure you pass the `# ... Test` cells and\n",
    " submit your solution notebook in the corresponding assignment on the course website. You can submit multiple times before the deadline and your highest score will be used."
   ]
  },
  {
   "cell_type": "markdown",
   "id": "8c198dd3",
   "metadata": {
    "deletable": false,
    "lx_assignment_number": "2",
    "lx_assignment_type": "ASSIGNMENT",
    "lx_assignment_type2print": "Assignment",
    "lx_problem_cell_type": "PROBLEM",
    "lx_problem_number": "1",
    "lx_problem_points": "8"
   },
   "source": [
    "---\n",
    "## Assignment 2, PROBLEM 1\n",
    "Maximum Points = 8"
   ]
  },
  {
   "cell_type": "markdown",
   "id": "5a750d76",
   "metadata": {
    "deletable": false,
    "lx_assignment_number": "2",
    "lx_assignment_type": "ASSIGNMENT",
    "lx_assignment_type2print": "Assignment",
    "lx_problem_cell_type": "PROBLEM",
    "lx_problem_number": "1",
    "lx_problem_points": "8"
   },
   "source": [
    "\n",
    "A courier company operates a fleet of delivery trucks that make deliveries to different parts of the city. The trucks are equipped with GPS tracking devices that record the location of each truck at regular intervals. The locations are divided into three regions: downtown, the suburbs, and the countryside. The following table shows the probabilities of a truck transitioning between these regions at each time step:\n",
    "\n",
    "| Current region | Probability of transitioning to downtown | Probability of transitioning to the suburbs | Probability of transitioning to the countryside |\n",
    "|----------------|--------------------------------------------|-----------------------------------------------|------------------------------------------------|\n",
    "| Downtown       | 0.3                                      | 0.4                                           | 0.3                                            |\n",
    "| Suburbs        | 0.2                                      | 0.5                                           | 0.3                                            |\n",
    "| Countryside    | 0.4                                      | 0.3                                           | 0.3                                            |\n",
    "\n",
    "1. If a truck is currently in the suburbs, what is the probability that it will be in the downtown region after two time steps? [1.5p]\n",
    "2. If a truck is currently in the suburbs, what is the probability that it will be in the downtown region **the first time** after two time steps? [1.5p]\n",
    "3. Is this Markov chain irreducible? [1.5p]\n",
    "4. What is the stationary distribution? [1.5p]\n",
    "5. Advanced question: What is the expected number of steps until the first time one enters the downtown region having started in the suburbs region. Hint: to get within 1 decimal point, it is enough to compute the probabilities for hitting times below 30. [2p]\n",
    "\n"
   ]
  },
  {
   "cell_type": "code",
   "execution_count": 5,
   "id": "2c601f0f",
   "metadata": {
    "deletable": false,
    "lx_assignment_number": "2",
    "lx_assignment_type": "ASSIGNMENT",
    "lx_assignment_type2print": "Assignment",
    "lx_problem_cell_type": "PROBLEM",
    "lx_problem_number": "1",
    "lx_problem_points": "8"
   },
   "outputs": [
    {
     "data": {
      "text/plain": [
       "0.28"
      ]
     },
     "execution_count": 5,
     "metadata": {},
     "output_type": "execute_result"
    }
   ],
   "source": [
    "# Part 1\n",
    "\n",
    "# Fill in the answer to part 1 below as a decimal number\n",
    "# Can calculate this by hand but can also solve it in code using a transition matrix:\n",
    "import numpy as np\n",
    "\n",
    "transition_matrix = np.array([\n",
    "    [0.3, 0.4, 0.3],  # From Downtown to [Downtown, Suburbs, Countryside]\n",
    "    [0.2, 0.5, 0.3],  # From Suburbs to [Downtown, Suburbs, Countryside]\n",
    "    [0.4, 0.3, 0.3]   # From Countryside to [Downtown, Suburbs, Countryside]\n",
    "])\n",
    "\n",
    "# Now enetering our initial conditions for part 1:\n",
    "initial_state = np.array([0, 1, 0])  # Truck starts in Suburbs\n",
    "\n",
    "# Calculate the state probability vector after two time steps\n",
    "# P(t+2) = initial_state * (transition_matrix)^2\n",
    "two_step_transition_matrix = np.linalg.matrix_power(transition_matrix, 2)\n",
    "two_step_probabilities = initial_state @ two_step_transition_matrix\n",
    "\n",
    "# Probability that the truck will be in Downtown after two steps\n",
    "problem1_p1 = two_step_probabilities[0]\n",
    "problem1_p1"
   ]
  },
  {
   "cell_type": "code",
   "execution_count": 3,
   "id": "52a172dc",
   "metadata": {
    "deletable": false,
    "lx_assignment_number": "2",
    "lx_assignment_type": "ASSIGNMENT",
    "lx_assignment_type2print": "Assignment",
    "lx_problem_cell_type": "PROBLEM",
    "lx_problem_number": "1",
    "lx_problem_points": "8"
   },
   "outputs": [
    {
     "data": {
      "text/plain": [
       "0.22"
      ]
     },
     "execution_count": 3,
     "metadata": {},
     "output_type": "execute_result"
    }
   ],
   "source": [
    "# Part 2\n",
    "\n",
    "# Fill in the answer to part 2 below as a decimal number\n",
    "\n",
    "# P(suburbs -> suburbs) + P(suburbs -> countryside)\n",
    "prob_not_downtown_first_step = transition_matrix[1, 1] + transition_matrix[1, 2]\n",
    "prob_suburbs_to_downtown = transition_matrix[1, 0]  # Probability from suburbs to downtown\n",
    "prob_countryside_to_downtown = transition_matrix[2, 0]  # Probability from countryside to downtown\n",
    "\n",
    "# Total probability: (Probability of not downtown in step 1) * (probability of moving to downtown in step 2)\n",
    "prob_first_time_downtown_after_two_steps = (\n",
    "    transition_matrix[1, 1] * prob_suburbs_to_downtown +\n",
    "    transition_matrix[1, 2] * prob_countryside_to_downtown\n",
    ")\n",
    "\n",
    "problem1_p2 = prob_first_time_downtown_after_two_steps\n",
    "problem1_p2"
   ]
  },
  {
   "cell_type": "code",
   "execution_count": 4,
   "id": "a3b3872d",
   "metadata": {
    "deletable": false,
    "lx_assignment_number": "2",
    "lx_assignment_type": "ASSIGNMENT",
    "lx_assignment_type2print": "Assignment",
    "lx_problem_cell_type": "PROBLEM",
    "lx_problem_number": "1",
    "lx_problem_points": "8"
   },
   "outputs": [],
   "source": [
    "# Part 3\n",
    "\n",
    "# Fill in the answer to part 3 below as a boolean\n",
    "problem1_irreducible = True"
   ]
  },
  {
   "cell_type": "code",
   "execution_count": 17,
   "id": "cf43542a",
   "metadata": {},
   "outputs": [
    {
     "data": {
      "text/plain": [
       "array([[-4.93651112e-01, -8.16496581e-01,  7.07106781e-01],\n",
       "       [-7.02503505e-01,  4.08248290e-01, -7.07106781e-01],\n",
       "       [-5.12637693e-01,  4.08248290e-01,  6.76450183e-16]])"
      ]
     },
     "execution_count": 17,
     "metadata": {},
     "output_type": "execute_result"
    }
   ],
   "source": [
    "eigenvectors"
   ]
  },
  {
   "cell_type": "code",
   "execution_count": 20,
   "id": "0145dd10",
   "metadata": {},
   "outputs": [
    {
     "data": {
      "text/plain": [
       "array([-0.81649658,  0.40824829,  0.40824829])"
      ]
     },
     "execution_count": 20,
     "metadata": {},
     "output_type": "execute_result"
    }
   ],
   "source": [
    "eigenvectors[:,1].flatten()"
   ]
  },
  {
   "cell_type": "code",
   "execution_count": 10,
   "id": "1b9d0a00",
   "metadata": {
    "deletable": false,
    "lx_assignment_number": "2",
    "lx_assignment_type": "ASSIGNMENT",
    "lx_assignment_type2print": "Assignment",
    "lx_problem_cell_type": "PROBLEM",
    "lx_problem_number": "1",
    "lx_problem_points": "8"
   },
   "outputs": [
    {
     "data": {
      "text/plain": [
       "array([0.29, 0.41, 0.3 ])"
      ]
     },
     "execution_count": 10,
     "metadata": {},
     "output_type": "execute_result"
    }
   ],
   "source": [
    "# Part 4\n",
    "\n",
    "# Fill in the answer to part 4 below\n",
    "# the answer should be a numpy array of length 3\n",
    "# make sure that the entries sums to 1!\n",
    "from scipy.linalg import eig\n",
    "\n",
    "# Compute the eigenvalues and eigenvectors of the transition matrix\n",
    "eigenvalues, eigenvectors = eig(transition_matrix.T)\n",
    "\n",
    "# Find the eigenvector associated with eigenvalue 1 (stationary distribution)\n",
    "# Identify the index of the eigenvalue closest to 1\n",
    "index_of_1 = np.isclose(eigenvalues, 1)\n",
    "stationary_vector = np.real(eigenvectors[:, index_of_1]).flatten()\n",
    "\n",
    "# Normalize to make it a probability distribution (sum to 1)\n",
    "stationary_distribution = stationary_vector / np.sum(stationary_vector)\n",
    "stationary_distribution_rounded = np.round(stationary_distribution, 2)\n",
    "\n",
    "problem1_stationary = stationary_distribution_rounded\n",
    "problem1_stationary"
   ]
  },
  {
   "cell_type": "code",
   "execution_count": 6,
   "id": "72d88504",
   "metadata": {},
   "outputs": [
    {
     "data": {
      "text/plain": [
       "array([ True, False, False])"
      ]
     },
     "execution_count": 6,
     "metadata": {},
     "output_type": "execute_result"
    }
   ],
   "source": [
    "index_of_1"
   ]
  },
  {
   "cell_type": "code",
   "execution_count": 23,
   "id": "481625e3",
   "metadata": {
    "deletable": false,
    "lx_assignment_number": "2",
    "lx_assignment_type": "ASSIGNMENT",
    "lx_assignment_type2print": "Assignment",
    "lx_problem_cell_type": "PROBLEM",
    "lx_problem_number": "1",
    "lx_problem_points": "8"
   },
   "outputs": [
    {
     "name": "stdout",
     "output_type": "stream",
     "text": [
      "[0.00000000e+00 2.00000000e-01 2.20000000e-01 1.64000000e-01\n",
      " 1.18000000e-01 8.45600000e-02 6.05680000e-02 4.33808000e-02\n",
      " 3.10705600e-02 2.22536000e-02 1.59386464e-02 1.14157011e-02\n",
      " 8.17624211e-03 5.85605162e-03 4.19426677e-03 3.00405032e-03\n",
      " 2.15158425e-03 1.54102438e-03 1.10372445e-03 7.90518097e-04\n",
      " 5.66191010e-04 4.05521722e-04 2.90445917e-04 2.08025431e-04\n",
      " 1.48993589e-04 1.06713346e-04 7.64310612e-05 5.47420482e-05\n",
      " 3.92077749e-05 2.80816970e-05 2.01128911e-05]\n",
      "3.8444520365146007\n",
      "Expected number of steps: 3.8\n",
      "Total probability captured: 1.000\n"
     ]
    },
    {
     "data": {
      "text/plain": [
       "3.8"
      ]
     },
     "execution_count": 23,
     "metadata": {},
     "output_type": "execute_result"
    }
   ],
   "source": [
    "# Part 5\n",
    "\n",
    "# Fill in the answer to part 5 below\n",
    "# That is, the expected number of steps as a decimal number\n",
    "# Initialize parameters\n",
    "def calculate_hitting_time_distribution(max_steps=30):\n",
    "    # Initialize transition matrix P\n",
    "    P = transition_matrix\n",
    "    # Initialize array to store probability of hitting downtown at exactly step k\n",
    "    hitting_probs = np.zeros(max_steps + 1)\n",
    "    \n",
    "    # Initial state distribution (starting from suburbs)\n",
    "    current_dist = np.zeros(3)\n",
    "    current_dist[1] = 1.0\n",
    "    \n",
    "    # For first step, it's simply the transition probability\n",
    "    hitting_probs[1] = P[1,0]\n",
    "\n",
    "    # Modified transition matrix that removes transitions from downtown\n",
    "    P_modified = P.copy()\n",
    "    P_modified[0,:] = 0  # Once we hit downtown, we stop\n",
    "    \n",
    "    # Calculate probabilities for each step\n",
    "    for k in range(2, max_steps + 1):\n",
    "        # Update distribution but exclude paths that already hit downtown\n",
    "        current_dist = current_dist @ P_modified\n",
    "        # Probability of hitting downtown at exactly step k\n",
    "        hitting_probs[k] = current_dist[1] * P[1,0] + current_dist[2] * P[2,0]\n",
    "    \n",
    "    return hitting_probs\n",
    "\n",
    "# Calculate expected value\n",
    "def calculate_expected_steps():\n",
    "    hitting_probs = calculate_hitting_time_distribution()\n",
    "    steps = np.arange(len(hitting_probs))\n",
    "    expected_steps = np.sum(steps * hitting_probs)\n",
    "    \n",
    "    # Calculate cumulative probability to check if we're missing significant mass\n",
    "    total_prob = np.sum(hitting_probs)\n",
    "    print(hitting_probs)\n",
    "    print(expected_steps)\n",
    "    \n",
    "    print(f\"Expected number of steps: {expected_steps:.1f}\")\n",
    "    print(f\"Total probability captured: {total_prob:.3f}\")\n",
    "    \n",
    "    return expected_steps\n",
    "\n",
    "# Run the calculation\n",
    "problem1_ET = calculate_expected_steps()\n",
    "round(problem1_ET,1)"
   ]
  },
  {
   "cell_type": "code",
   "execution_count": 22,
   "id": "f3dc3284",
   "metadata": {},
   "outputs": [
    {
     "ename": "NameError",
     "evalue": "name 'hitting_probs' is not defined",
     "output_type": "error",
     "traceback": [
      "\u001b[1;31m---------------------------------------------------------------------------\u001b[0m",
      "\u001b[1;31mNameError\u001b[0m                                 Traceback (most recent call last)",
      "Cell \u001b[1;32mIn[22], line 1\u001b[0m\n\u001b[1;32m----> 1\u001b[0m \u001b[43mhitting_probs\u001b[49m\n",
      "\u001b[1;31mNameError\u001b[0m: name 'hitting_probs' is not defined"
     ]
    }
   ],
   "source": [
    "hitting_probs"
   ]
  },
  {
   "cell_type": "markdown",
   "id": "6807c118",
   "metadata": {
    "deletable": false,
    "lx_assignment_number": "2",
    "lx_assignment_type": "ASSIGNMENT",
    "lx_assignment_type2print": "Assignment",
    "lx_problem_cell_type": "PROBLEM",
    "lx_problem_number": "2",
    "lx_problem_points": "4"
   },
   "source": [
    "---\n",
    "## Assignment 2, PROBLEM 2\n",
    "Maximum Points = 4"
   ]
  },
  {
   "cell_type": "markdown",
   "id": "d9a825d1",
   "metadata": {
    "deletable": false,
    "lx_assignment_number": "2",
    "lx_assignment_type": "ASSIGNMENT",
    "lx_assignment_type2print": "Assignment",
    "lx_problem_cell_type": "PROBLEM",
    "lx_problem_number": "2",
    "lx_problem_points": "4"
   },
   "source": [
    "\n",
    "Use the **Multi-dimensional Constrained Optimisation** example (in `07-Optimization.ipynb`) to numerically find the MLe for the mean and variance parameter based on `normallySimulatedDataSamples`, an array obtained by a specific simulation of $30$ IID samples from the $Normal(10,2)$ random variable.\n",
    "\n",
    "Recall that $Normal(\\mu, \\sigma^2)$ RV has the probability density function given by:\n",
    "\n",
    "$$\n",
    "f(x ;\\mu, \\sigma) = \\displaystyle\\frac{1}{\\sigma\\sqrt{2\\pi}}\\exp\\left(\\frac{-1}{2\\sigma^2}(x-\\mu)^2\\right)\n",
    "$$\n",
    "\n",
    "The two parameters, $\\mu \\in \\mathbb{R} := (-\\infty,\\infty)$ and $\\sigma \\in (0,\\infty)$, are sometimes referred to as the location and scale parameters.\n",
    "\n",
    "You know that the log likelihood function for $n$ IID samples from a Normal RV with parameters $\\mu$ and $\\sigma$ simply follows from $\\sum_{i=1}^n \\log(f(x_i; \\mu,\\sigma))$, based on the IID assumption. \n",
    "\n",
    "NOTE: When setting bounding boxes for $\\mu$ and $\\sigma$ try to start with some guesses like $[-20,20]$ and $[0.1,5.0]$ and make it larger if the solution is at the boundary. Making the left bounding-point for $\\sigma$ too close to $0.0$ will cause division by zero Warnings. Other numerical instabilities can happen in such iterative numerical solutions to the MLe. You need to be patient and learn by trial-and-error. You will see the mathematical theory in more details in a future course in scientific computing/optimisation. So don't worry too much now except learning to use it for our problems.  "
   ]
  },
  {
   "cell_type": "code",
   "execution_count": 8,
   "id": "699b52ca",
   "metadata": {
    "deletable": false,
    "lx_assignment_number": "2",
    "lx_assignment_type": "ASSIGNMENT",
    "lx_assignment_type2print": "Assignment",
    "lx_problem_cell_type": "PROBLEM",
    "lx_problem_number": "2",
    "lx_problem_points": "4"
   },
   "outputs": [
    {
     "data": {
      "text/plain": [
       "  message: CONVERGENCE: REL_REDUCTION_OF_F_<=_FACTR*EPSMCH\n",
       "  success: True\n",
       "   status: 0\n",
       "      fun: 58.63138728318369\n",
       "        x: [ 9.269e+00  1.708e+00]\n",
       "      nit: 9\n",
       "      jac: [-8.313e-05  1.400e-04]\n",
       "     nfev: 69\n",
       "     njev: 23\n",
       " hess_inv: <2x2 LbfgsInvHessProduct with dtype=float64>"
      ]
     },
     "execution_count": 8,
     "metadata": {},
     "output_type": "execute_result"
    }
   ],
   "source": [
    "\n",
    "import numpy as np\n",
    "from scipy import optimize\n",
    "# do NOT change the next three lines\n",
    "np.random.seed(123456) # set seed\n",
    "# simulate 30 IID samples drawn from Normal(10,2)RV\n",
    "normallySimulatedDataSamples = np.random.normal(10,2,30) \n",
    "\n",
    "# define the negative log likelihoo function you want to minimise by editing XXX\n",
    "def negLogLklOfIIDNormalSamples(parameters):\n",
    "    '''return the -log(likelihood) of normallySimulatedDataSamples with mean and var parameters'''\n",
    "    mu_param=parameters[0]\n",
    "    sigma_param=parameters[1]\n",
    "     # Compute negative log likelihood for normal distribution\n",
    "    n = len(normallySimulatedDataSamples)\n",
    "    log_likelihood = -n * np.log(sigma_param) - n/2 * np.log(2*np.pi) - \\\n",
    "                    np.sum((normallySimulatedDataSamples - mu_param)**2)/(2*sigma_param**2)\n",
    "    \n",
    "    return -log_likelihood  # Return negative since we want to minimize\n",
    "# you should only change XXX below and not anything else\n",
    "parameter_bounding_box=((-20, 20), (0.1, 10.0)) # specify the constraints for each parameter - some guess work...\n",
    "initial_arguments = np.array([0.0, 1.0]) # point in 2D to initialise the minimize algorithm\n",
    "result_problem2_opt = optimize.minimize(negLogLklOfIIDNormalSamples, initial_arguments, bounds=parameter_bounding_box, method='L-BFGS-B') \n",
    "# call the minimize method above finally! you need to play a bit to get initial conditions and bounding box ok\n",
    "result_problem2_opt\n"
   ]
  },
  {
   "cell_type": "markdown",
   "id": "f2d850b1",
   "metadata": {
    "deletable": false,
    "lx_assignment_number": "2",
    "lx_assignment_type": "ASSIGNMENT",
    "lx_assignment_type2print": "Assignment",
    "lx_problem_cell_type": "PROBLEM",
    "lx_problem_number": "3",
    "lx_problem_points": "4"
   },
   "source": [
    "---\n",
    "## Assignment 2, PROBLEM 3\n",
    "Maximum Points = 4"
   ]
  },
  {
   "cell_type": "markdown",
   "id": "0b9c787c",
   "metadata": {
    "deletable": false,
    "lx_assignment_number": "2",
    "lx_assignment_type": "ASSIGNMENT",
    "lx_assignment_type2print": "Assignment",
    "lx_problem_cell_type": "PROBLEM",
    "lx_problem_number": "3",
    "lx_problem_points": "4"
   },
   "source": [
    "\n",
    "\n",
    "Derive the maximum likelihood estimate for $n$ IID samples from a random variable with the following probability density function:\n",
    "$$\n",
    "f(x; \\lambda) = \\frac{1}{24} \\lambda^5 x^4 \\exp(-\\lambda x), \\qquad \\text{ where, } \\lambda>0, x > 0\n",
    "$$\n",
    "\n",
    "You can solve the MLe by hand (using pencil paper or using key-strokes). Present your solution as the return value of a function called `def MLeForAssignment2Problem3(x)`, where `x` is a list of $n$ input data points."
   ]
  },
  {
   "cell_type": "code",
   "execution_count": 9,
   "id": "41720f28",
   "metadata": {
    "deletable": false,
    "lx_assignment_number": "2",
    "lx_assignment_type": "ASSIGNMENT",
    "lx_assignment_type2print": "Assignment",
    "lx_problem_cell_type": "PROBLEM",
    "lx_problem_number": "3",
    "lx_problem_points": "4"
   },
   "outputs": [
    {
     "data": {
      "text/plain": [
       "1.6666666666666667"
      ]
     },
     "execution_count": 9,
     "metadata": {},
     "output_type": "execute_result"
    }
   ],
   "source": [
    "\n",
    "# do not change the name of the function, just replace XXX with the appropriate expressions for the MLe\n",
    "def MLeForAssignment2Problem3(x):\n",
    "    '''\n",
    "    Calculates the Maximum Likelihood Estimate for lambda parameter\n",
    "    in the density function f(x;λ)=(1/24λ⁵)x⁴exp(-λx)\n",
    "    \n",
    "    Args:\n",
    "        x: list or array of n IID samples from the distribution\n",
    "        \n",
    "    Returns:\n",
    "        float: MLE estimate for lambda parameter\n",
    "    '''\n",
    "    n = len(x)\n",
    "    sum_x = np.sum(x)\n",
    "    lambda_mle = 5 * n / sum_x\n",
    "    \n",
    "    return lambda_mle\n",
    "samples = [1, 2, 3, 4, 5]\n",
    "lambda_est = MLeForAssignment2Problem3(samples)\n",
    "lambda_est"
   ]
  },
  {
   "cell_type": "markdown",
   "id": "ae3906e8",
   "metadata": {
    "deletable": false,
    "lx_assignment_number": "2",
    "lx_assignment_type": "ASSIGNMENT",
    "lx_assignment_type2print": "Assignment",
    "lx_problem_cell_type": "PROBLEM",
    "lx_problem_number": "4",
    "lx_problem_points": "8"
   },
   "source": [
    "---\n",
    "## Assignment 2, PROBLEM 4\n",
    "Maximum Points = 8"
   ]
  },
  {
   "cell_type": "markdown",
   "id": "2e67892b",
   "metadata": {
    "deletable": false,
    "lx_assignment_number": "2",
    "lx_assignment_type": "ASSIGNMENT",
    "lx_assignment_type2print": "Assignment",
    "lx_problem_cell_type": "PROBLEM",
    "lx_problem_number": "4",
    "lx_problem_points": "8"
   },
   "source": [
    "\n",
    "## Random variable generation and transformation\n",
    "\n",
    "The purpose of this problem is to show that you can implement your own sampler, this will be built in the following three steps:\n",
    "\n",
    "1. [2p] Implement a Linear Congruential Generator where you tested out a good combination (a large $M$ with $a,b$ satisfying the Hull-Dobell (Thm 6.8)) of parameters. Follow the instructions in the code block.\n",
    "2. [2p] Using a generator construct random numbers from the uniform $[0,1]$ distribution.\n",
    "3. [4p] Using a uniform $[0,1]$ random generator, generate samples from \n",
    "\n",
    "$$p_0(x) = \\frac{\\pi}{2}|\\sin(2\\pi x)|, \\quad x \\in [0,1] \\enspace .$$\n",
    "\n",
    "Using the **Accept-Reject** sampler (**Algorithm 1** in TFDS notes) with sampling density given by the uniform $[0,1]$ distribution."
   ]
  },
  {
   "cell_type": "code",
   "execution_count": 10,
   "id": "530446bc",
   "metadata": {
    "deletable": false,
    "lx_assignment_number": "2",
    "lx_assignment_type": "ASSIGNMENT",
    "lx_assignment_type2print": "Assignment",
    "lx_problem_cell_type": "PROBLEM",
    "lx_problem_number": "4",
    "lx_problem_points": "8"
   },
   "outputs": [],
   "source": [
    "\n",
    "def problem4_LCG(size=None, seed = 0):\n",
    "    \"\"\"\n",
    "    A linear congruential generator that generates pseudo random numbers according to size.\n",
    "    Using parameters that satisfy Hull-Dobell theorem for maximum period.\n",
    "    \"\"\"\n",
    "    if size is None:\n",
    "        return []\n",
    "    \n",
    "    # Choose parameters satisfying Hull-Dobell theorem:\n",
    "    # M should be large prime\n",
    "    M = 2**31 - 1  # Mersenne prime, commonly used\n",
    "    # a should be primitive root modulo M\n",
    "    a = 48271      # Known primitive root for this M\n",
    "    # b = 0 is fine since M is prime\n",
    "    b = 0\n",
    "    \n",
    "    numbers = []\n",
    "    current = seed\n",
    "    \n",
    "    for _ in range(size):\n",
    "        current = (a * current + b) % M\n",
    "        numbers.append(current)\n",
    "    \n",
    "    return numbers"
   ]
  },
  {
   "cell_type": "code",
   "execution_count": 11,
   "id": "8d215c5a",
   "metadata": {
    "deletable": false,
    "lx_assignment_number": "2",
    "lx_assignment_type": "ASSIGNMENT",
    "lx_assignment_type2print": "Assignment",
    "lx_problem_cell_type": "PROBLEM",
    "lx_problem_number": "4",
    "lx_problem_points": "8"
   },
   "outputs": [],
   "source": [
    "\n",
    "def problem4_uniform(generator=None, period = 1, size=None, seed=0):\n",
    "    \"\"\"\n",
    "    Takes a generator and produces samples from the uniform [0,1] distribution.\n",
    "    \"\"\"\n",
    "    if size is None or generator is None:\n",
    "        return []\n",
    "    \n",
    "    # Get raw numbers from the generator\n",
    "    raw_numbers = generator(size=size, seed=seed)\n",
    "    \n",
    "    # Convert to uniform [0,1] by dividing by period\n",
    "    uniform_numbers = [x / period for x in raw_numbers]\n",
    "    \n",
    "    return uniform_numbers"
   ]
  },
  {
   "cell_type": "code",
   "execution_count": 12,
   "id": "15832284",
   "metadata": {
    "deletable": false,
    "lx_assignment_number": "2",
    "lx_assignment_type": "ASSIGNMENT",
    "lx_assignment_type2print": "Assignment",
    "lx_problem_cell_type": "PROBLEM",
    "lx_problem_number": "4",
    "lx_problem_points": "8"
   },
   "outputs": [],
   "source": [
    "\n",
    "def problem4_accept_reject(uniformGenerator=None, n_iterations=None, seed=0):\n",
    "    \"\"\"\n",
    "    Accept-reject sampler for p0(x) = (pi/2)|sin(2πx)| using uniform as proposal.\n",
    "    \"\"\"\n",
    "    if n_iterations is None or uniformGenerator is None:\n",
    "        return []\n",
    "    \n",
    "    accepted_samples = []\n",
    "    M = np.pi/2  # Maximum value of the target density\n",
    "    \n",
    "    # Generate uniform samples for both x and acceptance criterion\n",
    "    uniform_samples = uniformGenerator(size=2*n_iterations, seed=seed)\n",
    "    \n",
    "    # Process pairs of uniform samples\n",
    "    for i in range(0, len(uniform_samples), 2):\n",
    "        if i + 1 >= len(uniform_samples):\n",
    "            break\n",
    "            \n",
    "        x = uniform_samples[i]\n",
    "        u = uniform_samples[i + 1]\n",
    "        \n",
    "        # Target density\n",
    "        target_density = (np.pi/2) * abs(np.sin(2 * np.pi * x))\n",
    "        \n",
    "        # Accept-reject criterion\n",
    "        if u * M <= target_density:\n",
    "            accepted_samples.append(x)\n",
    "    \n",
    "    return accepted_samples"
   ]
  },
  {
   "cell_type": "markdown",
   "id": "c4a50ffb",
   "metadata": {
    "deletable": false,
    "lx_assignment_number": "2",
    "lx_assignment_type": "ASSIGNMENT",
    "lx_assignment_type2print": "Assignment",
    "lx_problem_cell_type": "Test",
    "lx_problem_number": "4",
    "lx_problem_points": "8"
   },
   "source": [
    "---\n",
    "#### Local Test for Assignment 2, PROBLEM 4\n",
    "Evaluate cell below to make sure your answer is valid.                             You **should not** modify anything in the cell below when evaluating it to do a local test of                             your solution.\n",
    "You may need to include and evaluate code snippets from lecture notebooks in cells above to make the local test work correctly sometimes (see error messages for clues). This is meant to help you become efficient at recalling materials covered in lectures that relate to this problem. Such local tests will generally not be available in the exam."
   ]
  },
  {
   "cell_type": "code",
   "execution_count": 17,
   "id": "26cd1592",
   "metadata": {
    "deletable": false,
    "lx_assignment_number": "2",
    "lx_assignment_type": "ASSIGNMENT",
    "lx_assignment_type2print": "Assignment",
    "lx_problem_cell_type": "Test",
    "lx_problem_number": "4",
    "lx_problem_points": "8"
   },
   "outputs": [
    {
     "name": "stdout",
     "output_type": "stream",
     "text": [
      "Uniform sampler [2.2477936010098986e-05, 0.08503244914348818, 0.6013526053174179, 0.8916112770753034, 0.9679557019695433, 0.18968977182623453, 0.514975824167475, 0.39800838818680884, 0.26290616545030204, 0.7435124515292758]\n"
     ]
    }
   ],
   "source": [
    "\n",
    "# If you managed to solve all three parts you can test the following code to see if it runs\n",
    "# you have to change the period to match your LCG though, this is marked as XXX.\n",
    "# It is a very good idea to check these things using the histogram function in sagemath\n",
    "# try with a larger number of samples, up to 10000 should run\n",
    "\n",
    "#print(\"LCG output: %s\" % problem4_LCG(size=1000, seed = 1))\n",
    "\n",
    "period = 2**31 - 1\n",
    "\n",
    "print(\"Uniform sampler %s\" % problem4_uniform(generator=problem4_LCG, period = period, size=10, seed=1))\n",
    "\n",
    "uniform_sampler = lambda size,seed: problem4_uniform(generator=problem4_LCG, period = period, size=size, seed=seed)\n",
    "\n",
    "#print(\"Accept-Reject sampler %s\" % problem4_accept_reject(uniformGenerator = uniform_sampler,n_iterations=20,seed=1))\n",
    "#from sage.plot.histogram import Histogram\n",
    "#g = Histogram(problem4_LCG(size=1000, seed = 1), {}); g"
   ]
  },
  {
   "cell_type": "code",
   "execution_count": 13,
   "id": "5318f370",
   "metadata": {
    "deletable": false,
    "lx_assignment_number": "2",
    "lx_assignment_type": "ASSIGNMENT",
    "lx_assignment_type2print": "Assignment",
    "lx_problem_cell_type": "Test",
    "lx_problem_number": "4",
    "lx_problem_points": "8"
   },
   "outputs": [
    {
     "name": "stdout",
     "output_type": "stream",
     "text": [
      "Accept-Reject sampler [0.763774618976614, 0.651592972722763, 0.0938595867742349, 0.8357651039198697, 0.762280082457942, 0.22876222127045265, 0.9014274576114836, 0.21659939713061338, 0.23308445025757263, 0.2187810373376886, 0.28978161459048557, 0.8375779756625729, 0.6422943629324456]\n"
     ]
    }
   ],
   "source": [
    "\n",
    "# If however you did not manage to implement either part 1 or part 2 but still want to check part 3, you can run the code below\n",
    "\n",
    "def testUniformGenerator(size,seed):\n",
    "    import random\n",
    "    random.seed(seed)\n",
    "    \n",
    "    return [random.uniform(0,1) for s in range(size)]\n",
    "\n",
    "print(\"Accept-Reject sampler %s\" % problem4_accept_reject(uniformGenerator=testUniformGenerator, n_iterations=20, seed=1))"
   ]
  }
 ],
 "metadata": {
  "kernelspec": {
   "display_name": "Python 3 (ipykernel)",
   "language": "python",
   "name": "python3"
  },
  "language_info": {
   "codemirror_mode": {
    "name": "ipython",
    "version": 3
   },
   "file_extension": ".py",
   "mimetype": "text/x-python",
   "name": "python",
   "nbconvert_exporter": "python",
   "pygments_lexer": "ipython3",
   "version": "3.9.18"
  },
  "lx_assignment_number": 2,
  "lx_course_instance": "2024",
  "lx_course_name": "Introduction to Data Science",
  "lx_course_number": "1MS041"
 },
 "nbformat": 4,
 "nbformat_minor": 5
}
