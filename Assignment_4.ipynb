{
 "cells": [
  {
   "cell_type": "markdown",
   "id": "e9959f48",
   "metadata": {
    "deletable": false
   },
   "source": [
    "\n",
    "# Assignment 4 for Course 1MS041\n",
    "Make sure you pass the `# ... Test` cells and\n",
    " submit your solution notebook in the corresponding assignment on the course website. You can submit multiple times before the deadline and your highest score will be used."
   ]
  },
  {
   "cell_type": "markdown",
   "id": "b63d8b71",
   "metadata": {
    "deletable": false,
    "lx_assignment_number": "4",
    "lx_assignment_type": "ASSIGNMENT",
    "lx_assignment_type2print": "Assignment",
    "lx_problem_cell_type": "PROBLEM",
    "lx_problem_number": "1",
    "lx_problem_points": "24"
   },
   "source": [
    "---\n",
    "## Assignment 4, PROBLEM 1\n",
    "Maximum Points = 24"
   ]
  },
  {
   "cell_type": "markdown",
   "id": "04e1585d",
   "metadata": {
    "deletable": false,
    "lx_assignment_number": "4",
    "lx_assignment_type": "ASSIGNMENT",
    "lx_assignment_type2print": "Assignment",
    "lx_problem_cell_type": "PROBLEM",
    "lx_problem_number": "1",
    "lx_problem_points": "24"
   },
   "source": [
    "\n",
    "    This time the assignment only consists of one problem, but we will do a more comprehensive analysis instead.\n",
    "\n",
    "Consider the dataset `Corona_NLP_train.csv` that you can get from the course website [git](https://github.com/datascience-intro/1MS041-2024/blob/main/notebooks/data/Corona_NLP_train.csv). The data is \"Coronavirus tweets NLP - Text Classification\" that can be found on [kaggle](https://www.kaggle.com/datasets/datatattle/covid-19-nlp-text-classification). The data has several columns, but we will only be working with `OriginalTweet`and `Sentiment`.\n",
    "\n",
    "1. [3p] Load the data and filter out those tweets that have `Sentiment`=`Neutral`. Let $X$ represent the `OriginalTweet` and let \n",
    "    $$\n",
    "        Y = \n",
    "        \\begin{cases}\n",
    "        1 & \\text{if sentiment is towards positive}\n",
    "        \\\\\n",
    "        0 & \\text{if sentiment is towards negative}.\n",
    "        \\end{cases}\n",
    "    $$\n",
    "    Put the resulting arrays into the variables $X$ and $Y$. Split the data into three parts, train/test/validation where train is 60% of the data, test is 15% and validation is 25% of the data. Do not do this randomly, this is to make sure that we all did the same splits (we are in this case assuming the data is IID as presented in the dataset). That is [train,test,validation] is the splitting layout.\n",
    "\n",
    "2. [4p] There are many ways to solve this classification problem. The first main issue to resolve is to convert the $X$ variable to something that you can feed into a machine learning model. For instance, you can first use [`CountVectorizer`](https://scikit-learn.org/1.5/modules/generated/sklearn.feature_extraction.text.CountVectorizer.html) as the first step. The step that comes after should be a `LogisticRegression` model, but for this to work you need to put together the `CountVectorizer` and the `LogisticRegression` model into a [`Pipeline`](https://scikit-learn.org/1.5/modules/generated/sklearn.pipeline.Pipeline.html#sklearn.pipeline.Pipeline). Fill in the variable `model` such that it accepts the raw text as input and outputs a number $0$ or $1$, make sure that `model.predict_proba` works for this. **Hint: You might need to play with the parameters of LogisticRegression to get convergence, make sure that it doesn't take too long or the autograder might kill your code**\n",
    "3. [3p] Use your trained model and calculate the precision and recall on both classes. Fill in the corresponding variables with the answer.\n",
    "4. [3p] Let us now define a cost function\n",
    "    * A positive tweet that is classified as negative will have a cost of 1\n",
    "    * A negative tweet that is classified as positive will have a cost of 5\n",
    "    * Correct classifications cost 0\n",
    "    \n",
    "    complete filling the function `cost` to compute the cost of a prediction model under a certain prediction threshold (recall our precision recall lecture and the `predict_proba` function from trained models). \n",
    "\n",
    "5. [4p] Now, we wish to select the threshold of our classifier that minimizes the cost, fill in the selected threshold value in value `optimal_threshold`.\n",
    "6. [4p] With your newly computed threshold value, compute the cost of putting this model in production by computing the cost using the validation data. Also provide a confidence interval of the cost using Hoeffdings inequality with a 99% confidence.\n",
    "7. [3p] Let $t$ be the threshold you found and $f$ the model you fitted (one of the outputs of `predict_proba`), if we define the random variable\n",
    "    $$\n",
    "        C = (1-1_{f(X)\\geq t})Y+5(1-Y)1_{f(X) \\geq t}\n",
    "    $$\n",
    "    then $C$ denotes the cost of a randomly chosen tweet. In the previous step we estimated $\\mathbb{E}[C]$ using the empirical mean. However, since the threshold is chosen to minimize cost it is likely that $C=0$ or $C=1$ than $C=5$ as such it will have a low variance. Compute the empirical variance of $C$ on the validation set. What would be the confidence interval if we used Bennett's inequality instead of Hoeffding in point 6 but with the computed empirical variance as our guess for the variance?"
   ]
  },
  {
   "cell_type": "code",
   "execution_count": 5,
   "id": "49e6fa33",
   "metadata": {
    "deletable": false,
    "lx_assignment_number": "4",
    "lx_assignment_type": "ASSIGNMENT",
    "lx_assignment_type2print": "Assignment",
    "lx_problem_cell_type": "PROBLEM",
    "lx_problem_number": "1",
    "lx_problem_points": "24"
   },
   "outputs": [
    {
     "name": "stdout",
     "output_type": "stream",
     "text": [
      "Train size: 20066, Test size: 5017, Validation size: 8361\n"
     ]
    }
   ],
   "source": [
    "\n",
    "# Part 1\n",
    "\n",
    "# Load the data from the file specified in the problem definition and make sure that it is loaded using\n",
    "# the search path `data/Corona_NLP_train.csv`. This is to make sure the autograder and your computer have the same\n",
    "# file path and can load the data correctly.\n",
    "\n",
    "# Contrary to how many other problems are structured, this problem actually requires you to\n",
    "# have X on the shape (n_samples, ) that is a 1-dimensional array. Otherwise it will cause a bunch\n",
    "# of errors in the autograder or also in for instance CountVectorizer.\n",
    "\n",
    "import pandas as pd\n",
    "import numpy as np\n",
    "from sklearn.model_selection import train_test_split\n",
    "# Make sure that all your data is numpy arrays and not pandas dataframes or series.\n",
    "data = pd.read_csv('data/Corona_NLP_train.csv', encoding = \"iso-8859-1\")\n",
    "\n",
    "# Filter out neutral sentiment\n",
    "data = data[data['Sentiment'] != 'Neutral']\n",
    "\n",
    "# Map sentiments to binary values\n",
    "data['Sentiment'] = data['Sentiment'].apply(lambda x: 1 if x == 'Positive' else 0)\n",
    "\n",
    "# Define X and Y\n",
    "X = data['OriginalTweet'].to_numpy()  # Features (tweets)\n",
    "Y = data['Sentiment'].to_numpy()  # Target (sentiment)\n",
    "\n",
    "# Split the data into train, test, and validation sets (60%, 15%, 25% respectively)\n",
    "X_train, X_temp, Y_train, Y_temp = train_test_split(X, Y, test_size=0.4, shuffle=False)\n",
    "X_valid, X_test, Y_valid, Y_test = train_test_split(X_temp, Y_temp, test_size=0.375, shuffle=False)\n",
    "\n",
    "# Verify the splits\n",
    "print(f\"Train size: {len(X_train)}, Test size: {len(X_test)}, Validation size: {len(X_valid)}\")"
   ]
  },
  {
   "cell_type": "code",
   "execution_count": 6,
   "id": "078fe203",
   "metadata": {
    "deletable": false,
    "lx_assignment_number": "4",
    "lx_assignment_type": "ASSIGNMENT",
    "lx_assignment_type2print": "Assignment",
    "lx_problem_cell_type": "PROBLEM",
    "lx_problem_number": "1",
    "lx_problem_points": "24"
   },
   "outputs": [
    {
     "name": "stdout",
     "output_type": "stream",
     "text": [
      "Model training completed.\n"
     ]
    }
   ],
   "source": [
    "from sklearn.feature_extraction.text import CountVectorizer\n",
    "from sklearn.linear_model import LogisticRegression\n",
    "from sklearn.pipeline import Pipeline\n",
    "\n",
    "# Define the pipeline: CountVectorizer -> LogisticRegression\n",
    "model = Pipeline([\n",
    "    ('vectorizer', CountVectorizer()),  # Converts text into a bag-of-words representation\n",
    "    ('classifier', LogisticRegression(solver='liblinear'))  # Logistic Regression model\n",
    "])\n",
    "\n",
    "# Train the model using the training data\n",
    "model.fit(X_train, Y_train)\n",
    "\n",
    "# Check if the model was trained correctly\n",
    "print(\"Model training completed.\")"
   ]
  },
  {
   "cell_type": "code",
   "execution_count": 7,
   "id": "ec6fd1d4",
   "metadata": {
    "deletable": false,
    "lx_assignment_number": "4",
    "lx_assignment_type": "ASSIGNMENT",
    "lx_assignment_type2print": "Assignment",
    "lx_problem_cell_type": "PROBLEM",
    "lx_problem_number": "1",
    "lx_problem_points": "24"
   },
   "outputs": [
    {
     "name": "stdout",
     "output_type": "stream",
     "text": [
      "Precision for class 0 (Negative): 0.7181954887218045\n",
      "Precision for class 1 (Positive): 0.5041371158392435\n",
      "Recall for class 0 (Negative): 0.7400061977068485\n",
      "Recall for class 1 (Positive): 0.47653631284916204\n"
     ]
    }
   ],
   "source": [
    "from sklearn.metrics import precision_score, recall_score\n",
    "\n",
    "# Make predictions on the test set\n",
    "Y_pred = model.predict(X_test)\n",
    "\n",
    "# Calculate precision and recall for both classes\n",
    "precision_0 = precision_score(Y_test, Y_pred, pos_label=0)\n",
    "precision_1 = precision_score(Y_test, Y_pred, pos_label=1)\n",
    "recall_0 = recall_score(Y_test, Y_pred, pos_label=0)\n",
    "recall_1 = recall_score(Y_test, Y_pred, pos_label=1)\n",
    "\n",
    "# Print the results\n",
    "print(f\"Precision for class 0 (Negative): {precision_0}\")\n",
    "print(f\"Precision for class 1 (Positive): {precision_1}\")\n",
    "print(f\"Recall for class 0 (Negative): {recall_0}\")\n",
    "print(f\"Recall for class 1 (Positive): {recall_1}\")"
   ]
  },
  {
   "cell_type": "code",
   "execution_count": 8,
   "id": "10698374",
   "metadata": {
    "deletable": false,
    "lx_assignment_number": "4",
    "lx_assignment_type": "ASSIGNMENT",
    "lx_assignment_type2print": "Assignment",
    "lx_problem_cell_type": "PROBLEM",
    "lx_problem_number": "1",
    "lx_problem_points": "24"
   },
   "outputs": [],
   "source": [
    "def cost(model, threshold, X, Y):\n",
    "    # Get the probabilities of the predictions (for class 1)\n",
    "    probs = model.predict_proba(X)[:, 1]  # Get the probability for the positive class (1)\n",
    "\n",
    "    # Apply the threshold to determine predicted labels\n",
    "    Y_pred = (probs >= threshold).astype(int)  # If prob >= threshold, classify as 1 (positive), otherwise 0 (negative)\n",
    "\n",
    "    # Calculate the cost\n",
    "    # Cost 1 for a positive tweet classified as negative (Y=1, Y_pred=0)\n",
    "    # Cost 5 for a negative tweet classified as positive (Y=0, Y_pred=1)\n",
    "    cost = np.mean((Y == 1) & (Y_pred == 0)) * 1 + np.mean((Y == 0) & (Y_pred == 1)) * 5\n",
    "\n",
    "    return cost"
   ]
  },
  {
   "cell_type": "code",
   "execution_count": 9,
   "id": "b21963ec",
   "metadata": {
    "deletable": false,
    "lx_assignment_number": "4",
    "lx_assignment_type": "ASSIGNMENT",
    "lx_assignment_type2print": "Assignment",
    "lx_problem_cell_type": "PROBLEM",
    "lx_problem_number": "1",
    "lx_problem_points": "24"
   },
   "outputs": [
    {
     "name": "stdout",
     "output_type": "stream",
     "text": [
      "Optimal Threshold: 1.0\n",
      "Cost at Optimal Threshold: 0.35678692445684673\n"
     ]
    }
   ],
   "source": [
    "import numpy as np\n",
    "\n",
    "# Define a range of thresholds to test (from 0 to 1)\n",
    "thresholds = np.linspace(0, 1, 100)\n",
    "\n",
    "# Initialize variables to store the optimal threshold and its associated cost\n",
    "optimal_threshold = 0\n",
    "cost_at_optimal_threshold = float('inf')  # Start with a very high cost\n",
    "\n",
    "# Iterate over all possible thresholds\n",
    "for threshold in thresholds:\n",
    "    current_cost = cost(model, threshold, X_test, Y_test)\n",
    "    \n",
    "    # If the current cost is lower than the previous cost, update the optimal threshold\n",
    "    if current_cost < cost_at_optimal_threshold:\n",
    "        optimal_threshold = threshold\n",
    "        cost_at_optimal_threshold = current_cost\n",
    "\n",
    "# Print the results\n",
    "print(f\"Optimal Threshold: {optimal_threshold}\")\n",
    "print(f\"Cost at Optimal Threshold: {cost_at_optimal_threshold}\")"
   ]
  },
  {
   "cell_type": "code",
   "execution_count": 10,
   "id": "79a1c5e6",
   "metadata": {
    "deletable": false,
    "lx_assignment_number": "4",
    "lx_assignment_type": "ASSIGNMENT",
    "lx_assignment_type2print": "Assignment",
    "lx_problem_cell_type": "PROBLEM",
    "lx_problem_number": "1",
    "lx_problem_points": "24"
   },
   "outputs": [
    {
     "name": "stdout",
     "output_type": "stream",
     "text": [
      "Cost at Optimal Threshold on Validation Set: 0.3484033010405454\n",
      "Confidence Interval for Cost (99% Confidence): (0.2594023025083595, 0.4374042995727313)\n"
     ]
    }
   ],
   "source": [
    "import numpy as np\n",
    "\n",
    "# Calculate the cost on the validation set\n",
    "cost_at_optimal_threshold_valid = cost(model, optimal_threshold, X_valid, Y_valid)\n",
    "\n",
    "# Calculate Hoeffding's inequality for the confidence interval\n",
    "n_valid = len(X_valid)\n",
    "epsilon = 0.01  # You can adjust this epsilon for more precision if needed\n",
    "confidence_level = 0.99\n",
    "\n",
    "# Hoeffding's inequality bounds\n",
    "a, b = 0, 5  # Cost can only be between 0 and 5\n",
    "delta = 1 - confidence_level\n",
    "interval_radius = np.sqrt((b - a) ** 2 * np.log(2 / delta) / (2 * n_valid))\n",
    "\n",
    "# Confidence interval for the cost\n",
    "cost_interval_valid = (cost_at_optimal_threshold_valid - interval_radius, cost_at_optimal_threshold_valid + interval_radius)\n",
    "\n",
    "# Assert the cost interval is a tuple with 2 elements\n",
    "assert(type(cost_interval_valid) == tuple)\n",
    "assert(len(cost_interval_valid) == 2)\n",
    "\n",
    "# Print the results\n",
    "print(f\"Cost at Optimal Threshold on Validation Set: {cost_at_optimal_threshold_valid}\")\n",
    "print(f\"Confidence Interval for Cost (99% Confidence): {cost_interval_valid}\")"
   ]
  },
  {
   "cell_type": "code",
   "execution_count": 11,
   "id": "e3bc0760",
   "metadata": {
    "deletable": false,
    "lx_assignment_number": "4",
    "lx_assignment_type": "ASSIGNMENT",
    "lx_assignment_type2print": "Assignment",
    "lx_problem_cell_type": "PROBLEM",
    "lx_problem_number": "1",
    "lx_problem_points": "24"
   },
   "outputs": [
    {
     "name": "stdout",
     "output_type": "stream",
     "text": [
      "Variance of C: 0.22701844086459655\n",
      "Confidence Interval for C (using Bennett's inequality): (0.3314409737460543, 0.3653656283350365)\n"
     ]
    }
   ],
   "source": [
    "# Step 1: Calculate C for each sample in the validation set\n",
    "C_values = []\n",
    "for i in range(len(X_valid)):\n",
    "    prob = model.predict_proba([X_valid[i]])[0, 1]  # Get the probability of class 1\n",
    "    predicted_class = 1 if prob >= optimal_threshold else 0\n",
    "    actual_class = Y_valid[i]\n",
    "    \n",
    "    if predicted_class == 1 and actual_class == 0:\n",
    "        C_values.append(5)  # False positive\n",
    "    elif predicted_class == 0 and actual_class == 1:\n",
    "        C_values.append(1)  # False negative\n",
    "    else:\n",
    "        C_values.append(0)  # Correct classification (either true positive or true negative)\n",
    "\n",
    "# Step 2: Calculate the variance of C\n",
    "variance_of_C = np.var(C_values)\n",
    "\n",
    "# Step 3: Compute the confidence interval using Bennett's inequality\n",
    "n_valid = len(X_valid)\n",
    "empirical_mean = np.mean(C_values)\n",
    "\n",
    "# Bennett's inequality parameters\n",
    "delta = 0.01  # The margin of error (adjust if necessary)\n",
    "M = 5  # The range of C (0 to 5)\n",
    "L = empirical_mean  # The empirical mean of C\n",
    "V = variance_of_C  # The empirical variance of C\n",
    "\n",
    "# Bennett's inequality confidence interval\n",
    "interval_radius_bennett = np.sqrt((2 * np.log(2 / delta) * V) / n_valid)\n",
    "interval_of_C = (empirical_mean - interval_radius_bennett, empirical_mean + interval_radius_bennett)\n",
    "\n",
    "# Assert the interval is a tuple with 2 elements\n",
    "assert(type(interval_of_C) == tuple)\n",
    "assert(len(interval_of_C) == 2)\n",
    "\n",
    "# Print the results\n",
    "print(f\"Variance of C: {variance_of_C}\")\n",
    "print(f\"Confidence Interval for C (using Bennett's inequality): {interval_of_C}\")"
   ]
  }
 ],
 "metadata": {
  "kernelspec": {
   "display_name": "Python 3 (ipykernel)",
   "language": "python",
   "name": "python3"
  },
  "language_info": {
   "codemirror_mode": {
    "name": "ipython",
    "version": 3
   },
   "file_extension": ".py",
   "mimetype": "text/x-python",
   "name": "python",
   "nbconvert_exporter": "python",
   "pygments_lexer": "ipython3",
   "version": "3.9.18"
  },
  "lx_assignment_number": 4,
  "lx_course_instance": "2024",
  "lx_course_name": "Introduction to Data Science",
  "lx_course_number": "1MS041"
 },
 "nbformat": 4,
 "nbformat_minor": 5
}
